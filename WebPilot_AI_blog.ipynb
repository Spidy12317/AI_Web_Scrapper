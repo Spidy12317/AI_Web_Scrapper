{
 "cells": [
  {
   "cell_type": "markdown",
   "id": "8b4b9ea7-c74b-4023-98e9-ae89c6e853a7",
   "metadata": {},
   "source": [
    "# WebPilot AI: A Multimodal Approach to Web Data Extraction\r\n",
    "**Avnish Kardekar**  \r\n",
    "*DA623 – Multimodal Data Analysis and Learning (Winter 2025)*  \r\n",
    "*Indian Institute of Technology Guwahati*"
   ]
  },
  {
   "cell_type": "markdown",
   "id": "7d1d0e05-af7c-4552-b39f-9b5040907552",
   "metadata": {},
   "source": [
    "## Motivation\r\n",
    "Traditional scrapers break on websites that:\r\n",
    "- Use JavaScript for dynamic content rendering\r\n",
    "- Require scrolling or interaction\r\n",
    "- Present data in visual formats like images or charts\r\n",
    "\r\n",
    "**WebPilot AI** addresses these by combining:\r\n",
    "- HTML parsing\r\n",
    "- Vision-Language Models\r\n",
    "- Automated browser interaction"
   ]
  },
  {
   "cell_type": "markdown",
   "id": "5694de41-f524-4154-941e-c9856808fed5",
   "metadata": {},
   "source": [
    "## Multimodal Learning Context\r\n",
    "This project reflects multimodal learning by integrating:\r\n",
    "- **Textual data** (HTML parsing)\r\n",
    "- **Visual data** (Vision-Language model reasoning)\r\n",
    "- **Behavioral data** (user interaction simulation)\r\n",
    "\r\n",
    "These complement each other to extract structured data from almost any type of website."
   ]
  },
  {
   "cell_type": "markdown",
   "id": "ece055c4-2c3d-4d62-8e28-d5ebff095e3b",
   "metadata": {},
   "source": [
    "## 1. HTML Scraping\r\n",
    "Best for static, well-structured pages. Below is an example of scraping product data from a simple eCommerce page."
   ]
  },
  {
   "cell_type": "code",
   "execution_count": 1,
   "id": "414a0096-b1f1-4bf4-b52d-40da5f7b122b",
   "metadata": {},
   "outputs": [
    {
     "data": {
      "text/html": [
       "<div>\n",
       "<style scoped>\n",
       "    .dataframe tbody tr th:only-of-type {\n",
       "        vertical-align: middle;\n",
       "    }\n",
       "\n",
       "    .dataframe tbody tr th {\n",
       "        vertical-align: top;\n",
       "    }\n",
       "\n",
       "    .dataframe thead th {\n",
       "        text-align: right;\n",
       "    }\n",
       "</style>\n",
       "<table border=\"1\" class=\"dataframe\">\n",
       "  <thead>\n",
       "    <tr style=\"text-align: right;\">\n",
       "      <th></th>\n",
       "    </tr>\n",
       "  </thead>\n",
       "  <tbody>\n",
       "  </tbody>\n",
       "</table>\n",
       "</div>"
      ],
      "text/plain": [
       "Empty DataFrame\n",
       "Columns: []\n",
       "Index: []"
      ]
     },
     "execution_count": 1,
     "metadata": {},
     "output_type": "execute_result"
    }
   ],
   "source": [
    "import requests\n",
    "from bs4 import BeautifulSoup\n",
    "import pandas as pd\n",
    "\n",
    "url = 'https://example.com/products'\n",
    "response = requests.get(url)\n",
    "soup = BeautifulSoup(response.text, 'html.parser')\n",
    "\n",
    "products = []\n",
    "for div in soup.select('div.product'):\n",
    "    title = div.select_one('h2.title').text.strip()\n",
    "    price = div.select_one('span.price').text.strip()\n",
    "    products.append({'title': title, 'price': price})\n",
    "\n",
    "df = pd.DataFrame(products)\n",
    "df.head()"
   ]
  },
  {
   "cell_type": "markdown",
   "id": "365d8f54-5fdd-4265-be82-e8cae7b5e341",
   "metadata": {},
   "source": [
    "## 2. Vision-Based Extraction with Vision-language Model\n",
    "For websites with visual layouts or hidden JS content, we capture a screenshot and prompt a Vision-Language Model.\n",
    "\n",
    "**Prompt Example:**\n",
    "> Extract all job titles, companies, and locations from this job board.\n",
    "\n",
    "The model processes the image and returns structured JSON data."
   ]
  },
  {
   "cell_type": "markdown",
   "id": "6469b0ca-0053-4c83-84e2-e889ca37efb8",
   "metadata": {},
   "source": [
    "## 3. Automated Browsing with Playwright\n",
    "Used for dynamic pages requiring interaction.\n",
    "Here’s a code snippet to scrape Google search results:"
   ]
  },
  {
   "cell_type": "code",
   "execution_count": null,
   "id": "b51c6589-e876-46b9-add8-3cdc128d656f",
   "metadata": {},
   "outputs": [],
   "source": [
    "from playwright.sync_api import sync_playwright\n",
    "\n",
    "with sync_playwright() as p:\n",
    "    browser = p.chromium.launch(headless=True)\n",
    "    page = browser.new_page()\n",
    "    page.goto('https://www.google.com')\n",
    "    page.fill('input[name=\"q\"]', 'best AI tools 2025')\n",
    "    page.keyboard.press('Enter')\n",
    "    page.wait_for_selector('h3')\n",
    "    results = page.query_selector_all('h3')\n",
    "    for r in results[:5]:\n",
    "        print(r.inner_text())\n",
    "    browser.close()"
   ]
  },
  {
   "cell_type": "markdown",
   "id": "5700a3ec-7250-44b6-9414-c5d2e9d4bcba",
   "metadata": {},
   "source": [
    "## Comparative Analysis\n",
    "| Mode               | Strengths                         | Limitations                         |\n",
    "|--------------------|------------------------------------|--------------------------------------|\n",
    "| HTML Scraping      | Fast, efficient for static pages   | Fails with JS / visual layouts       |\n",
    "| Vision-based       | Works on images, charts, visuals   | Requires VLMs, slower                |\n",
    "| Automated Browsing | Mimics real users, handles JS      | Slower, resource-heavy               |"
   ]
  },
  {
   "cell_type": "markdown",
   "id": "b73d3751-bdde-4381-8af4-fd1dc6fb37a4",
   "metadata": {},
   "source": [
    "## Reflections\r",
    "\r\n",
    "- **Improvements**: Speed optimization, error handling, and CAPTCHA bypassing"
   ]
  },
  {
   "cell_type": "markdown",
   "id": "31a15e7a-c61c-4714-b7ae-1697e1a3c5d2",
   "metadata": {},
   "source": [
    "## References\n",
    "- [Playwright Python Docs](https://playwright.dev/python/)\n",
    "- [BeautifulSoup Docs](https://www.crummy.com/software/BeautifulSoup/)\n",
    "- [GPT-4V](https://openai.com/gpt-4v)\n",
    "- [LLaVA](https://llava-vl.github.io/)"
   ]
  },
  {
   "cell_type": "code",
   "execution_count": null,
   "id": "22a1317b-cb61-4bc2-a301-31725dbbbc75",
   "metadata": {},
   "outputs": [],
   "source": []
  }
 ],
 "metadata": {
  "kernelspec": {
   "display_name": "Python 3 (ipykernel)",
   "language": "python",
   "name": "python3"
  },
  "language_info": {
   "codemirror_mode": {
    "name": "ipython",
    "version": 3
   },
   "file_extension": ".py",
   "mimetype": "text/x-python",
   "name": "python",
   "nbconvert_exporter": "python",
   "pygments_lexer": "ipython3",
   "version": "3.11.7"
  }
 },
 "nbformat": 4,
 "nbformat_minor": 5
}
