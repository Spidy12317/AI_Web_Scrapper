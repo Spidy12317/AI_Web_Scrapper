{
 "cells": [
  {
   "cell_type": "code",
   "execution_count": 3,
   "metadata": {},
   "outputs": [],
   "source": [
    "from playwright.async_api import async_playwright\n",
    "import asyncio\n",
    "import tempfile\n",
    "from PIL import Image\n",
    "import io \n",
    "\n",
    "async def get_screenshot(semaphore=None):\n",
    "    if semaphore:\n",
    "        return await get_screenshot()\n",
    "\n",
    "    with tempfile.TemporaryDirectory() as temp_dir: \n",
    "        async with async_playwright() as p:\n",
    "            browser = await p.chromium.launch(headless=False)\n",
    "            page = await browser.new_page()\n",
    "            await page.goto(\"https://en.wikipedia.org/wiki/Python_(programming_language)\")\n",
    "            img_bytes = await page.screenshot(timeout=7000,full_page=True)\n",
    "            img_bytes = io.BytesIO(img_bytes)\n",
    "            img = Image.open(img_bytes)        \n",
    "            await browser.close()\n",
    "            del img_bytes,img,browser,page\n",
    "    return"
   ]
  },
  {
   "cell_type": "code",
   "execution_count": 14,
   "metadata": {},
   "outputs": [],
   "source": [
    "with tempfile.TemporaryDirectory() as temp_dir: \n",
    "    async with async_playwright() as p:\n",
    "        browser = await p.chromium.launch(headless=False)\n",
    "\n",
    "        page = await browser.new_page()\n",
    "        await page.goto(\"https://en.wikipedia.org/wiki/Python_(programming_language)\")\n",
    "\n",
    "        page_2 = await browser.new_page()\n",
    "        await page_2.goto(\"https://en.wikipedia.org/wiki/Python_(programming_language)\")\n",
    "\n",
    "\n",
    "        img_bytes = await page.screenshot(timeout=7000,full_page=True)\n",
    "        img_bytes = io.BytesIO(img_bytes)\n",
    "        img = Image.open(img_bytes)        \n",
    "        await browser.close()\n",
    "        del img_bytes,img,browser,page"
   ]
  },
  {
   "cell_type": "code",
   "execution_count": null,
   "metadata": {},
   "outputs": [],
   "source": []
  }
 ],
 "metadata": {
  "kernelspec": {
   "display_name": "vta_scrapper",
   "language": "python",
   "name": "python3"
  },
  "language_info": {
   "codemirror_mode": {
    "name": "ipython",
    "version": 3
   },
   "file_extension": ".py",
   "mimetype": "text/x-python",
   "name": "python",
   "nbconvert_exporter": "python",
   "pygments_lexer": "ipython3",
   "version": "3.11.11"
  }
 },
 "nbformat": 4,
 "nbformat_minor": 2
}
